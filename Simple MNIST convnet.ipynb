{
 "cells": [
  {
   "cell_type": "markdown",
   "id": "f9da8a54",
   "metadata": {},
   "source": [
    "\n"
   ]
  },
  {
   "cell_type": "markdown",
   "id": "93f63016",
   "metadata": {},
   "source": [
    "# Setup"
   ]
  },
  {
   "cell_type": "code",
   "execution_count": 1,
   "id": "4a036078",
   "metadata": {},
   "outputs": [],
   "source": [
    "#import the necessary modules\n",
    "\n",
    "import numpy as np\n",
    "from tensorflow import keras\n",
    "from tensorflow.keras import layers"
   ]
  },
  {
   "cell_type": "markdown",
   "id": "e2272432",
   "metadata": {},
   "source": [
    "# Prepare the data\n"
   ]
  },
  {
   "cell_type": "code",
   "execution_count": 2,
   "id": "a03be51e",
   "metadata": {},
   "outputs": [
    {
     "name": "stdout",
     "output_type": "stream",
     "text": [
      "Downloading data from https://storage.googleapis.com/tensorflow/tf-keras-datasets/mnist.npz\n",
      "11490434/11490434 [==============================] - 2s 0us/step\n",
      "x_train shape: (60000, 28, 28, 1)\n",
      "60000 train samples\n",
      "10000 test samples\n"
     ]
    }
   ],
   "source": [
    "# Model / data parameters\n",
    "num_classes = 10\n",
    "input_shape = (28, 28, 1)\n",
    "\n",
    "# Load the data and split it between train and test sets\n",
    "(x_train, y_train), (x_test, y_test) = keras.datasets.mnist.load_data()\n",
    "\n",
    "# Scale images to the [0, 1] range\n",
    "x_train = x_train.astype(\"float32\") / 255\n",
    "x_test = x_test.astype(\"float32\") / 255\n",
    "# Make sure images have shape (28, 28, 1)\n",
    "x_train = np.expand_dims(x_train, -1)\n",
    "x_test = np.expand_dims(x_test, -1)\n",
    "print(\"x_train shape:\", x_train.shape)\n",
    "print(x_train.shape[0], \"train samples\")\n",
    "print(x_test.shape[0], \"test samples\")\n",
    "\n",
    "\n",
    "# convert class vectors to binary class matrices\n",
    "y_train = keras.utils.to_categorical(y_train, num_classes)\n",
    "y_test = keras.utils.to_categorical(y_test, num_classes)"
   ]
  },
  {
   "cell_type": "markdown",
   "id": "ccf4cc30",
   "metadata": {},
   "source": [
    "# Build the model\n"
   ]
  },
  {
   "cell_type": "code",
   "execution_count": 3,
   "id": "14537130",
   "metadata": {},
   "outputs": [
    {
     "name": "stdout",
     "output_type": "stream",
     "text": [
      "Model: \"sequential\"\n",
      "_________________________________________________________________\n",
      " Layer (type)                Output Shape              Param #   \n",
      "=================================================================\n",
      " conv2d (Conv2D)             (None, 26, 26, 32)        320       \n",
      "                                                                 \n",
      " max_pooling2d (MaxPooling2D  (None, 13, 13, 32)       0         \n",
      " )                                                               \n",
      "                                                                 \n",
      " conv2d_1 (Conv2D)           (None, 11, 11, 64)        18496     \n",
      "                                                                 \n",
      " max_pooling2d_1 (MaxPooling  (None, 5, 5, 64)         0         \n",
      " 2D)                                                             \n",
      "                                                                 \n",
      " flatten (Flatten)           (None, 1600)              0         \n",
      "                                                                 \n",
      " dropout (Dropout)           (None, 1600)              0         \n",
      "                                                                 \n",
      " dense (Dense)               (None, 10)                16010     \n",
      "                                                                 \n",
      "=================================================================\n",
      "Total params: 34,826\n",
      "Trainable params: 34,826\n",
      "Non-trainable params: 0\n",
      "_________________________________________________________________\n"
     ]
    }
   ],
   "source": [
    "model = keras.Sequential(\n",
    "    [\n",
    "        keras.Input(shape=input_shape),\n",
    "        layers.Conv2D(32, kernel_size=(3, 3), activation=\"relu\"),\n",
    "        layers.MaxPooling2D(pool_size=(2, 2)),\n",
    "        layers.Conv2D(64, kernel_size=(3, 3), activation=\"relu\"),\n",
    "        layers.MaxPooling2D(pool_size=(2, 2)),\n",
    "        layers.Flatten(),\n",
    "        layers.Dropout(0.5),\n",
    "        layers.Dense(num_classes, activation=\"softmax\"),\n",
    "    ]\n",
    ")\n",
    "\n",
    "model.summary()"
   ]
  },
  {
   "cell_type": "markdown",
   "id": "7ed7041f",
   "metadata": {},
   "source": [
    "# Train the model\n"
   ]
  },
  {
   "cell_type": "code",
   "execution_count": 4,
   "id": "b6a6aeb3",
   "metadata": {},
   "outputs": [
    {
     "name": "stdout",
     "output_type": "stream",
     "text": [
      "Epoch 1/15\n",
      "422/422 [==============================] - 28s 64ms/step - loss: 0.3636 - accuracy: 0.8898 - val_loss: 0.0843 - val_accuracy: 0.9760\n",
      "Epoch 2/15\n",
      "422/422 [==============================] - 27s 65ms/step - loss: 0.1104 - accuracy: 0.9663 - val_loss: 0.0594 - val_accuracy: 0.9850\n",
      "Epoch 3/15\n",
      "422/422 [==============================] - 28s 66ms/step - loss: 0.0836 - accuracy: 0.9742 - val_loss: 0.0472 - val_accuracy: 0.9873\n",
      "Epoch 4/15\n",
      "422/422 [==============================] - 30s 70ms/step - loss: 0.0667 - accuracy: 0.9798 - val_loss: 0.0412 - val_accuracy: 0.9890\n",
      "Epoch 5/15\n",
      "422/422 [==============================] - 32s 75ms/step - loss: 0.0607 - accuracy: 0.9810 - val_loss: 0.0408 - val_accuracy: 0.9880\n",
      "Epoch 6/15\n",
      "422/422 [==============================] - 30s 71ms/step - loss: 0.0543 - accuracy: 0.9831 - val_loss: 0.0356 - val_accuracy: 0.9907\n",
      "Epoch 7/15\n",
      "422/422 [==============================] - 31s 73ms/step - loss: 0.0501 - accuracy: 0.9843 - val_loss: 0.0350 - val_accuracy: 0.9903\n",
      "Epoch 8/15\n",
      "422/422 [==============================] - 28s 66ms/step - loss: 0.0461 - accuracy: 0.9853 - val_loss: 0.0338 - val_accuracy: 0.9912\n",
      "Epoch 9/15\n",
      "422/422 [==============================] - 31s 74ms/step - loss: 0.0440 - accuracy: 0.9860 - val_loss: 0.0302 - val_accuracy: 0.9917\n",
      "Epoch 10/15\n",
      "422/422 [==============================] - 29s 68ms/step - loss: 0.0410 - accuracy: 0.9871 - val_loss: 0.0317 - val_accuracy: 0.9915\n",
      "Epoch 11/15\n",
      "422/422 [==============================] - 28s 66ms/step - loss: 0.0393 - accuracy: 0.9876 - val_loss: 0.0290 - val_accuracy: 0.9910\n",
      "Epoch 12/15\n",
      "422/422 [==============================] - 27s 64ms/step - loss: 0.0364 - accuracy: 0.9886 - val_loss: 0.0294 - val_accuracy: 0.9915\n",
      "Epoch 13/15\n",
      "422/422 [==============================] - 29s 68ms/step - loss: 0.0345 - accuracy: 0.9889 - val_loss: 0.0309 - val_accuracy: 0.9923\n",
      "Epoch 14/15\n",
      "422/422 [==============================] - 30s 71ms/step - loss: 0.0333 - accuracy: 0.9889 - val_loss: 0.0282 - val_accuracy: 0.9925\n",
      "Epoch 15/15\n",
      "422/422 [==============================] - 29s 69ms/step - loss: 0.0319 - accuracy: 0.9897 - val_loss: 0.0292 - val_accuracy: 0.9920\n"
     ]
    },
    {
     "data": {
      "text/plain": [
       "<keras.callbacks.History at 0x1cfa0c860a0>"
      ]
     },
     "execution_count": 4,
     "metadata": {},
     "output_type": "execute_result"
    }
   ],
   "source": [
    "batch_size = 128\n",
    "epochs = 15\n",
    "\n",
    "model.compile(loss=\"categorical_crossentropy\", optimizer=\"adam\", metrics=[\"accuracy\"])\n",
    "\n",
    "model.fit(x_train, y_train, batch_size=batch_size, epochs=epochs, validation_split=0.1)"
   ]
  },
  {
   "cell_type": "markdown",
   "id": "143c7060",
   "metadata": {},
   "source": [
    "# Evaluate the trained model\n"
   ]
  },
  {
   "cell_type": "code",
   "execution_count": 5,
   "id": "20661200",
   "metadata": {},
   "outputs": [
    {
     "name": "stdout",
     "output_type": "stream",
     "text": [
      "Test loss: 0.02410462126135826\n",
      "Test accuracy: 0.9912999868392944\n"
     ]
    }
   ],
   "source": [
    "score = model.evaluate(x_test, y_test, verbose=0)\n",
    "print(\"Test loss:\", score[0])\n",
    "print(\"Test accuracy:\", score[1])"
   ]
  },
  {
   "cell_type": "code",
   "execution_count": null,
   "id": "525cdb41",
   "metadata": {},
   "outputs": [],
   "source": []
  }
 ],
 "metadata": {
  "kernelspec": {
   "display_name": "Python 3 (ipykernel)",
   "language": "python",
   "name": "python3"
  },
  "language_info": {
   "codemirror_mode": {
    "name": "ipython",
    "version": 3
   },
   "file_extension": ".py",
   "mimetype": "text/x-python",
   "name": "python",
   "nbconvert_exporter": "python",
   "pygments_lexer": "ipython3",
   "version": "3.9.7"
  }
 },
 "nbformat": 4,
 "nbformat_minor": 5
}
